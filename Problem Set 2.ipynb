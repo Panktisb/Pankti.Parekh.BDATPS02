{
 "cells": [
  {
   "cell_type": "code",
   "execution_count": 15,
   "id": "b396031e",
   "metadata": {},
   "outputs": [
    {
     "data": {
      "text/plain": [
       "6"
      ]
     },
     "execution_count": 15,
     "metadata": {},
     "output_type": "execute_result"
    }
   ],
   "source": [
    "Question 1:-\n",
    "a = 0\n",
    "def b():\n",
    "    global a\n",
    "    a = z(a)\n",
    "def z(a):\n",
    "    return a + 2\n",
    "b()\n",
    "b()\n",
    "b()\n",
    "a"
   ]
  },
  {
   "cell_type": "code",
   "execution_count": 20,
   "id": "324172c0",
   "metadata": {},
   "outputs": [
    {
     "name": "stdout",
     "output_type": "stream",
     "text": [
      "FileFilelength.ipynbis not found\n",
      "Fileilelength.ipynbis not found\n"
     ]
    }
   ],
   "source": [
    "Question 2:-\n",
    "\n",
    "def fileLength(filename):\n",
    "        \n",
    "    try:\n",
    "        with open(filename, 'r') as f:\n",
    "            print(len(f.read()))\n",
    "    except FileNotFoundError:\n",
    "                print('File' + filename+ 'is not found');\n",
    "    \n",
    "fileLength('Filelength.ipynb')\n",
    "fileLength('ilelength.ipynb')"
   ]
  },
  {
   "cell_type": "code",
   "execution_count": 35,
   "id": "ebf66990",
   "metadata": {},
   "outputs": [
    {
     "name": "stdout",
     "output_type": "stream",
     "text": [
      "File Filelength.txt not found\n",
      "File ilelength.txt not found\n"
     ]
    }
   ],
   "source": [
    "import os\n",
    "\n",
    "def fileLength(fname):\n",
    "    try:\n",
    "        statinfo = os.stat(fname)\n",
    "        print(statinfo.st_size)\n",
    "    except IOError:\n",
    "        print(\"File\", str(fname), \"not found\")\n",
    "        \n",
    "fileLength('Filelength.txt')\n",
    "fileLength('ilelength.txt')"
   ]
  },
  {
   "cell_type": "code",
   "execution_count": 36,
   "id": "ebdf2d81",
   "metadata": {},
   "outputs": [
    {
     "name": "stdout",
     "output_type": "stream",
     "text": [
      "I am a Kanagroo located at coordinates (0,0)\n",
      "['doll', 'firetruck', 'kitten']\n",
      "I am a Kanagroo located at coordinates (3,0)\n"
     ]
    }
   ],
   "source": [
    "Question 3:-\n",
    "\n",
    "class Marsupial:\n",
    "\n",
    "    def __init__(a):\n",
    "        a.pouch=[]\n",
    "\n",
    "    def put_in_pouch(a, item):\n",
    "        a.pouch.append(item)\n",
    "\n",
    "    def pouch_contents(a):\n",
    "        return a.pouch\n",
    "\n",
    "class Kangaroo(Marsupial):\n",
    "\n",
    "    def __init__(a, x,y):\n",
    "        Marsupial.__init__(a)\n",
    "        a.x=x\n",
    "        a.y=y\n",
    "        \n",
    "    def jump(a, dx, dy):\n",
    "        a.x+=dx\n",
    "        a.x+=dy\n",
    "\n",
    "    def __str__(a):\n",
    "        return \"I am a Kanagroo located at coordinates (\"+str(a.x)+\",\"+str(a.y)+\")\"\n",
    "\n",
    "k = Kangaroo(0,0)\n",
    "print(k)\n",
    "\n",
    "k.put_in_pouch('doll')\n",
    "k.put_in_pouch('firetruck')\n",
    "k.put_in_pouch('kitten')\n",
    "print(k.pouch_contents())\n",
    "\n",
    "k.jump(1,0)\n",
    "k.jump(1,0)\n",
    "k.jump(1,0)\n",
    "print(k)"
   ]
  },
  {
   "cell_type": "code",
   "execution_count": 37,
   "id": "29cf550e",
   "metadata": {},
   "outputs": [
    {
     "name": "stdout",
     "output_type": "stream",
     "text": [
      "Enter a number: 10\n",
      "5\n",
      "16\n",
      "8\n",
      "4\n",
      "2\n",
      "1\n"
     ]
    }
   ],
   "source": [
    "Question 4:-\n",
    "\n",
    "def collatz(x):\n",
    "    \n",
    "    while x != 1:\n",
    "        if x % 2 == 0:\n",
    "            x = x // 2\n",
    "            print(x)\n",
    "            \n",
    "        elif x % 2 == 1:\n",
    "            x = x * 3 + 1\n",
    "            print(x)\n",
    "            \n",
    "x = input(\"Enter a number: \")\n",
    "x = collatz(int(x))\n",
    "                 "
   ]
  },
  {
   "cell_type": "code",
   "execution_count": 15,
   "id": "b51ec0cf",
   "metadata": {
    "scrolled": false
   },
   "outputs": [
    {
     "name": "stdout",
     "output_type": "stream",
     "text": [
      "0\n",
      "1\n",
      "11\n",
      "1001\n"
     ]
    }
   ],
   "source": [
    "Question 5:-\n",
    "\n",
    "def binary(n):\n",
    "    if n > 0:\n",
    "        x=n%2\n",
    "        n=int(n/2)\n",
    "        return int(str(binary(n))+str(x))\n",
    "    else:\n",
    "        return 0\n",
    "        \n",
    "print(binary(0))\n",
    "print(binary(1))\n",
    "print(binary(3))\n",
    "print(binary(9))"
   ]
  },
  {
   "cell_type": "code",
   "execution_count": 51,
   "id": "4bae45a7",
   "metadata": {},
   "outputs": [
    {
     "ename": "IndentationError",
     "evalue": "unexpected indent (1719893006.py, line 4)",
     "output_type": "error",
     "traceback": [
      "\u001b[1;36m  Cell \u001b[1;32mIn[51], line 4\u001b[1;36m\u001b[0m\n\u001b[1;33m    super().__init__()\u001b[0m\n\u001b[1;37m    ^\u001b[0m\n\u001b[1;31mIndentationError\u001b[0m\u001b[1;31m:\u001b[0m unexpected indent\n"
     ]
    }
   ],
   "source": [
    "from html.parser import HTMLParser\n",
    "class HeadingParser(HTMLParser):\n",
    "    def__init__(self)\n",
    "        super().__init__()\n",
    "        self.header = []\n",
    "    def handle_starttag(self,tag,attrs):\n",
    "        if tag.startswith('h'):\n",
    "            self.header.append(tag)\n",
    "    def handle_data(self,data):\n",
    "        if self.header:\n",
    "            print(''*(len(self.header)-1)+ data.strip())\n",
    "    def handle_endtag(self,tag):\n",
    "        if tag.startswith('h'):\n",
    "            self.header.pop()\n",
    "    def print_headings(self):\n",
    "        for level,heading in self.header:\n",
    "            print(''*level+heading)\n",
    "            \n",
    "inFile = open('w3c.html')\n",
    "content = inFile.read()\n",
    "inFile.close()\n",
    "hp= HeadingParser()\n",
    "hp.feed(content)\n",
    "hp.print_headings()"
   ]
  },
  {
   "cell_type": "code",
   "execution_count": 42,
   "id": "105fbc68",
   "metadata": {},
   "outputs": [
    {
     "name": "stdout",
     "output_type": "stream",
     "text": [
      "http://reed.cs.depaul.edu/lperkovic/csc242/test1.html\n",
      "http://reed.cs.depaul.edu/lperkovic/csc242/test2.html\n",
      "http://reed.cs.depaul.edu/lperkovic/csc242/test4.html\n",
      "http://reed.cs.depaul.edu/lperkovic/csc242/test3.html\n",
      "http://reed.cs.depaul.edu/lperkovic/csc242/test4.html\n"
     ]
    }
   ],
   "source": [
    "Question 7:-\n",
    "    \n",
    "import requests\n",
    "from bs4 import BeautifulSoup\n",
    "\n",
    "def webdir(url,depth,indent):\n",
    "    if depth < 0:\n",
    "        return\n",
    "    response = requests.get(url)\n",
    "    soup = BeautifulSoup(response.content,'html.parser')\n",
    "    \n",
    "    print(''* indent+url)\n",
    "    \n",
    "    if depth == 0:\n",
    "        return\n",
    "    links = soup.find_all('a')\n",
    "    for link in links:\n",
    "        href = link.get('href')\n",
    "        if href.startswith('http'):\n",
    "            webdir(href,depth-1,indent+1)\n",
    "            \n",
    "webdir('http://reed.cs.depaul.edu/lperkovic/csc242/test1.html', 2, 0)\n",
    "webdir('http://reed.cs.depaul.edu/lperkovic/csc242/test2.html', 2, 0)\n",
    "webdir('http://reed.cs.depaul.edu/lperkovic/csc242/test4.html', 2, 0)\n",
    "webdir('http://reed.cs.depaul.edu/lperkovic/csc242/test3.html', 2, 0)\n",
    "webdir('http://reed.cs.depaul.edu/lperkovic/csc242/test4.html', 2, 0)"
   ]
  },
  {
   "cell_type": "code",
   "execution_count": 41,
   "id": "51359d72",
   "metadata": {},
   "outputs": [
    {
     "name": "stdout",
     "output_type": "stream",
     "text": [
      "Write list comprehension expressions that use list words and generate the following lists:\n",
      "\n",
      "a) Convert all letters from words in uppercase:\n",
      "['THE', 'QUICK', 'BROWN', 'FOX', 'JUMPS', 'OVER', 'THE', 'LAZY', 'DOG']\n",
      "\n",
      "b) Convert all letters from words in lowercase\n",
      "['the', 'quick', 'brown', 'fox', 'jumps', 'over', 'the', 'lazy', 'dog']\n",
      "\n",
      "c) The list of lengths of words in list words:\n",
      "[3, 5, 5, 3, 5, 4, 3, 4, 3]\n",
      "\n",
      "d) the list containing a list for every word of list words, where each list contains the word in uppercase and lowercase and the length of the word:\n",
      "[['THE', 'the', 3], ['QUICK', 'quick', 5], ['BROWN', 'brown', 5], ['FOX', 'fox', 3], ['JUMPS', 'jumps', 5], ['OVER', 'over', 4], ['THE', 'the', 3], ['LAZY', 'lazy', 4], ['DOG', 'dog', 3]]\n",
      "\n",
      "e) the list of words in list words containing 4 or more characters:\n",
      "['quick', 'brown', 'jumps', 'over', 'lazy']\n"
     ]
    }
   ],
   "source": [
    "Question 9:-\n",
    "\n",
    "words = ['The', 'quick', 'brown', 'fox', 'jumps', 'over', 'the', 'lazy', 'dog']\n",
    "\n",
    "\n",
    "print('Write list comprehension expressions that use list words and generate the following lists:')\n",
    "print()\n",
    "\n",
    "print('a) Convert all letters from words in uppercase:')\n",
    "print([x.upper() for x in words])\n",
    "print()\n",
    "\n",
    "print('b) Convert all letters from words in lowercase')\n",
    "print([x.lower() for x in words])\n",
    "print()\n",
    "\n",
    "print('c) The list of lengths of words in list words:')\n",
    "print([len(x) for x in words])\n",
    "print()\n",
    "\n",
    "print('d) the list containing a list for every word of list words, where each list contains the word in uppercase and lowercase and the length of the word:')\n",
    "print([[x.upper(), x.lower(), len(x)] for x in words])\n",
    "print()\n",
    "\n",
    "print('e) the list of words in list words containing 4 or more characters:')\n",
    "print([x for x in words if len(x)>=4])"
   ]
  },
  {
   "cell_type": "code",
   "execution_count": null,
   "id": "b662f81a",
   "metadata": {},
   "outputs": [],
   "source": [
    "Question 8:-\n",
    "    \n",
    "a) All the temperature data\n",
    "Select Temperature(c)\n",
    "From table;\n",
    "\n",
    "b) All the cities, but without repetition\n",
    "Select Distinct Country\n",
    "From table;\n",
    "\n",
    "c) All the records for India\n",
    "SELECT * FROM table\n",
    "WHERE Country= 'India';\n",
    "\n",
    "d) All the Fall records\n",
    "SELECT * FROM table\n",
    "WHERE Season = 'Fall';\n",
    "\n",
    "e) The city, country, and season for which the average rainfall is between 200 and 400 millimeters\n",
    "SELECT City, Country, Season \n",
    "FROM table\n",
    "WHERE Rainfall BETWEEN 200 AND 400;\n",
    "\n",
    "f) The City and Country for which the average Fall temperature is above 20 degrees\n",
    "SELECT City, Country\n",
    "FROM table\n",
    "WHERE Temperature > 20 ASC;\n",
    "\n",
    "g) The total annual rainfall for Cairo\n",
    "SELECT COUNT(Rainfall)\n",
    "FROM table\n",
    "WHERE City= 'Cairo';\n",
    "\n",
    "h) The total rainfall for each season\n",
    "SELECT COUNT(Rainfall)\n",
    "FROM table\n",
    "GROUP BY Season;"
   ]
  }
 ],
 "metadata": {
  "kernelspec": {
   "display_name": "Python 3 (ipykernel)",
   "language": "python",
   "name": "python3"
  },
  "language_info": {
   "codemirror_mode": {
    "name": "ipython",
    "version": 3
   },
   "file_extension": ".py",
   "mimetype": "text/x-python",
   "name": "python",
   "nbconvert_exporter": "python",
   "pygments_lexer": "ipython3",
   "version": "3.10.9"
  }
 },
 "nbformat": 4,
 "nbformat_minor": 5
}
